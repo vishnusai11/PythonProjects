{
 "cells": [
  {
   "cell_type": "markdown",
   "metadata": {},
   "source": [
    "Tic Tac Toe / XO Game"
   ]
  },
  {
   "cell_type": "code",
   "execution_count": 1,
   "metadata": {},
   "outputs": [],
   "source": [
    "#Function1- To print out a 3 by 3 board\n",
    "from IPython.display import clear_output\n",
    "\n",
    "def display_board(board):\n",
    "    #To clear the screen between moves\n",
    "    clear_output()  \n",
    "    print(f\"{' '}{board[7]}|{board[8]}|{board[9]}\")\n",
    "    print(f\"{' '}{board[4]}|{board[5]}|{board[6]}\")\n",
    "    print(f\"{' '}{board[1]}|{board[2]}|{board[3]}\")"
   ]
  },
  {
   "cell_type": "code",
   "execution_count": 2,
   "metadata": {},
   "outputs": [],
   "source": [
    "#Function2- To ask the 1st player if they want 'X' or 'O'\n",
    "def player_input():\n",
    "    print(\"Usually the 1st player gets to choose 'X' or 'O'\")\n",
    "    #marker\n",
    "    player1=''  \n",
    "    \n",
    "    while player1 not in ['X','O']:\n",
    "        \n",
    "        player1=input(\"Which one would you like? 'X' or 'O': \").upper()\n",
    "        \n",
    "        \n",
    "    if player1=='X':\n",
    "        return('X','O')\n",
    "    elif player1=='O':\n",
    "        return('O','X')"
   ]
  },
  {
   "cell_type": "code",
   "execution_count": 3,
   "metadata": {},
   "outputs": [],
   "source": [
    "#Function3- To take in the board, the marker ('X' or 'O'), and the position in which the marker should be printed\n",
    "def place_marker(board,marker,position):\n",
    "    board[position]=marker"
   ]
  },
  {
   "cell_type": "code",
   "execution_count": 4,
   "metadata": {},
   "outputs": [],
   "source": [
    "#Function4- To take in a board and a marker of a player to check if the player has won\n",
    "def win_check(board,marker):\n",
    "    return((board[7]==marker and board[4]==marker and board[1]==marker)#checking for column1\n",
    "            or(board[8]==marker and board[5]==marker and board[2]==marker)#checking for column2 \n",
    "            or(board[9]==marker and board[6]==marker and board[3]==marker)#checking for column3 \n",
    "            or(board[7]==marker and board[8]==marker and board[9]==marker)#checking for row1\n",
    "            or(board[4]==marker and board[5]==marker and board[6]==marker)#checking fow row2\n",
    "            or(board[1]==marker and board[2]==marker and board[3]==marker)#checking for row3\n",
    "            or(board[7]==marker and board[5]==marker and board[3]==marker)#checking for diagonal1\n",
    "            or(board[1]==marker and board[5]==marker and board[9]==marker))#checking for diagonal2"
   ]
  },
  {
   "cell_type": "code",
   "execution_count": 5,
   "metadata": {},
   "outputs": [],
   "source": [
    "#Function5- To decide which player goes first\n",
    "from random import randint\n",
    "\n",
    "def choose_first():\n",
    "    print(\"Let's see who goes first\")\n",
    "    play=randint(1,2)\n",
    "    return play"
   ]
  },
  {
   "cell_type": "code",
   "execution_count": 6,
   "metadata": {},
   "outputs": [],
   "source": [
    "#Function6- To check if the given position is free\n",
    "def space_check(board, position):\n",
    "    return board[position]==' '"
   ]
  },
  {
   "cell_type": "code",
   "execution_count": 7,
   "metadata": {},
   "outputs": [],
   "source": [
    "#Function7- To check if the board is full, return True if full, False otherwise\n",
    "def full_board_check(board):\n",
    "    for i in range(1,10):\n",
    "        if space_check(board, i):\n",
    "            return False\n",
    "    return True"
   ]
  },
  {
   "cell_type": "code",
   "execution_count": 8,
   "metadata": {},
   "outputs": [],
   "source": [
    "#Function8- To ask for a player's next position where he wants to use X/O and checks if its a free position\n",
    "def player_choice(board):\n",
    "    position=0\n",
    "    while position not in range(1,10) or not space_check(board,position):\n",
    "        position=int(input(\"What is your next position: \"))\n",
    "    return position"
   ]
  },
  {
   "cell_type": "code",
   "execution_count": 9,
   "metadata": {},
   "outputs": [],
   "source": [
    "#Function9- To ask the player at the beginning if the game can be started\n",
    "def play():\n",
    "    b=input('Shall we start (Y/N)').upper()\n",
    "    return b"
   ]
  },
  {
   "cell_type": "code",
   "execution_count": 10,
   "metadata": {},
   "outputs": [],
   "source": [
    "#Function10- To ask the player at the end if they want another match\n",
    "def replay():\n",
    "    a=input('Do you want to continue (Y/N)').upper()\n",
    "    return a"
   ]
  },
  {
   "cell_type": "code",
   "execution_count": 11,
   "metadata": {},
   "outputs": [],
   "source": [
    "#Main function to run the game\n",
    "def tic_tac_toe():\n",
    "    print('Welcome to Tic Tac Toe / XO Game')\n",
    "    while True:\n",
    "        #setting up the empty board\n",
    "        play_board=['#',' ',' ',' ',' ',' ',' ',' ',' ',' ']\n",
    "        #Assigning the X and the O\n",
    "        player1,player2=player_input()\n",
    "        #Printing out the Players and their respective markers\n",
    "        print(f\"Player 1 is {player1} and player 2 is {player2}\")\n",
    "        #Deciding who gets the first move\n",
    "        who_plays_first=choose_first()\n",
    "        #Printing out who gets the first move\n",
    "        print(f\"player{who_plays_first} will play first\")\n",
    "        #Checking if the game can be started\n",
    "        playfn=play()\n",
    "        if playfn=='Y':\n",
    "            play1=True\n",
    "        elif playfn=='N':\n",
    "            play1=False\n",
    "        #Game is started if the player says Y(yes)\n",
    "        while play1:\n",
    "            #checks if player1 is the chosen player who gets the first move\n",
    "            if who_plays_first==1:\n",
    "                display_board(play_board)\n",
    "                position=player_choice(play_board)\n",
    "                place_marker(play_board,player1,position)\n",
    "                \n",
    "                #Checks if player1 won\n",
    "                if win_check(play_board,player1):\n",
    "                    display_board(play_board)\n",
    "                    print('Player 1 You Won!')\n",
    "                    play1=False\n",
    "                else:\n",
    "                    if full_board_check(play_board):\n",
    "                        display_board(play_board)\n",
    "                        print('It is a draw!')\n",
    "                        break\n",
    "                    else:\n",
    "                        who_plays_first=2\n",
    "                    \n",
    "            #if player2 is the chosen player who gets the first move\n",
    "            else:\n",
    "                display_board(play_board)\n",
    "                position=player_choice(play_board)\n",
    "                place_marker(play_board,player2,position)\n",
    "                \n",
    "                #Checks if player2 won\n",
    "                if win_check(play_board,player2):\n",
    "                    display_board(play_board)\n",
    "                    print('Player 2 You Won!')\n",
    "                    play1=False\n",
    "                else:\n",
    "                    if full_board_check(play_board):\n",
    "                        display_board(play_board)\n",
    "                        print('It is a draw!')\n",
    "                        break\n",
    "                    else:\n",
    "                        who_plays_first=1\n",
    "        replayfn=replay()\n",
    "        #checking if the game can be played once again\n",
    "        if replayfn=='N':\n",
    "            break"
   ]
  },
  {
   "cell_type": "code",
   "execution_count": 13,
   "metadata": {},
   "outputs": [
    {
     "name": "stdout",
     "output_type": "stream",
     "text": [
      " X|X|O\n",
      " O|X|X\n",
      " O|O|O\n",
      "Player 2 You Won!\n",
      "Do you want to continue (Y/N)n\n"
     ]
    }
   ],
   "source": [
    "tic_tac_toe()"
   ]
  },
  {
   "cell_type": "code",
   "execution_count": null,
   "metadata": {},
   "outputs": [],
   "source": []
  }
 ],
 "metadata": {
  "kernelspec": {
   "display_name": "Python 3",
   "language": "python",
   "name": "python3"
  },
  "language_info": {
   "codemirror_mode": {
    "name": "ipython",
    "version": 3
   },
   "file_extension": ".py",
   "mimetype": "text/x-python",
   "name": "python",
   "nbconvert_exporter": "python",
   "pygments_lexer": "ipython3",
   "version": "3.8.3"
  }
 },
 "nbformat": 4,
 "nbformat_minor": 4
}
